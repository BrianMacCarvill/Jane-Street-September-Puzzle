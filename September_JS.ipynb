{
 "cells": [
  {
   "cell_type": "code",
   "execution_count": 24,
   "id": "39b15282",
   "metadata": {},
   "outputs": [],
   "source": [
    "from z3 import *\n",
    "import numpy as np\n",
    "from itertools import product\n",
    "from skimage.morphology import label\n",
    "from scipy.ndimage import measurements\n",
    "import matplotlib.pyplot as plt\n",
    "import seaborn as sns\n",
    "from IPython.display import Markdown, display\n",
    "import time\n",
    "import warnings\n",
    "warnings.filterwarnings(\"ignore\", message=\"Please use `label` from the `scipy.ndimage` namespace\")\n",
    "warnings.filterwarnings(\"ignore\", message=\"Please use `sum` from the `scipy.ndimage` namespace\")"
   ]
  },
  {
   "cell_type": "code",
   "execution_count": 25,
   "id": "100e267d",
   "metadata": {},
   "outputs": [],
   "source": [
    "import numpy as np"
   ]
  },
  {
   "cell_type": "code",
   "execution_count": 26,
   "id": "ca27a487",
   "metadata": {},
   "outputs": [],
   "source": [
    "grid = np.array([[  0,  0,  0,  0,  5,  0,  0,  0,  0],\n",
    "                 [  0,  0,  0,  4,  0,  0,  0,  0,  0],\n",
    "                 [  0,  0,  0,  0,  0,  0,  0,  0,  0],\n",
    "                 [  0,  0,  0,  0,  0,  0,  0,  0,  0],\n",
    "                 [  0,  0,  0,  0,  1,  0,  0,  0,  0],\n",
    "                 [  0,  0,  0,  0,  0,  0,  0,  0,  0],\n",
    "                 [  0,  0,  0,  0,  0,  0,  0,  0,  0],\n",
    "                 [  0,  0,  0,  0,  0,  8,  0,  0,  0],\n",
    "                 [  0,  0,  0,  0,  9,  0,  0,  0,  0]], dtype=int)"
   ]
  },
  {
   "cell_type": "code",
   "execution_count": 27,
   "id": "41f276be",
   "metadata": {},
   "outputs": [],
   "source": [
    "#grid = np.array([[  0,  0,  0,  0,  0,  0,  0,  0,  0],\n",
    "#                 [  0,  0,  0,  0,  0,  0,  0,  0,  0],\n",
    "#                 [  0,  0,  0,  0,  0,  0,  0,  0,  0],\n",
    "#                 [  0,  0,  0,  0,  0,  0,  0,  0,  0],\n",
    "#                 [  0,  0,  0,  0,  0,  0,  0,  0,  0],\n",
    "#                 [  0,  0,  0,  0,  0,  0,  0,  0,  0],\n",
    "#                 [  0,  0,  0,  0,  0,  0,  0,  0,  0],\n",
    "#                 [  0,  0,  0,  0,  0,  0,  0,  0,  0],\n",
    "#                 [  0,  0,  0,  0,  0,  0,  0,  0,  0]], dtype=int)"
   ]
  },
  {
   "cell_type": "code",
   "execution_count": 28,
   "id": "c4f96c3b",
   "metadata": {},
   "outputs": [],
   "source": [
    "def make_hooks(n: int) -> np.ndarray:\n",
    "    matrix = np.ones((n, n), dtype=int) * (2*n -1)\n",
    "    matrix[1:,1:] = 0\n",
    "    return [np.rot90(matrix, i) for i in range(4)]\n",
    "\n",
    "hook_17, hook_15, hook_13, hook_11, hook_9, hook_7, hook_5, hook_3 = \\\n",
    "    make_hooks(9), make_hooks(8), make_hooks(7), make_hooks(6), make_hooks(5), make_hooks(4), make_hooks(3), make_hooks(2)\n",
    "    \n",
    "orthagonal = lambda i, j, N: [(i+di, j+dj) for (di,dj) in [(0,1),(1,0),(0,-1),(-1,0)] if 0<=i+di<N and 0<=j+dj<N]\n",
    "\n",
    "def hook_constraint(hook_number: int, board: np.ndarray, N: int) -> PbEq:\n",
    "    hook = dict[int, list]({17: hook_17, 15: hook_15, 13: hook_13, 11: hook_11, 9: hook_9, 7: hook_7, 5: hook_5, 3: hook_3}).get(hook_number)\n",
    "    shift = N+1 - (hook_number + 1) // 2\n",
    "    conditions = list[And]()\n",
    "    for shift_i, shift_j, h in product(range(shift), range(shift), hook):\n",
    "        conditions.append(And([board[i+shift_i][j+shift_j]==e for (i,j),e in np.ndenumerate(h) if e]))\n",
    "    return PbEq([(cond, 1) for cond in conditions], 1)"
   ]
  },
  {
   "cell_type": "code",
   "execution_count": 29,
   "id": "d958b950",
   "metadata": {},
   "outputs": [],
   "source": [
    "\n",
    "start = time.time()\n",
    "N = len(grid)\n",
    "s = Solver()\n",
    "Y = np.array(IntVector(\"y\", N**2), dtype=object).reshape((N,N)) # This is for the actual values\n",
    "X = np.array(IntVector(\"x\", N**2), dtype=object).reshape((N,N)) # Y is for the L-stuff\n",
    "\n",
    "# Adding the givens\n",
    "s += [X[i][j]==e for (i,j),e in np.ndenumerate(grid) if e!=0]\n",
    "\n",
    "# I assume this is the no 2*2 logic \n",
    "# Actually not sure what this does\n",
    "# s += [sum([X[i][j] for (i,j) in orthagonal(i, j, N)]) == grid[i][j] for (i,j),e in np.ndenumerate(grid) if e!=0]\n",
    "\n",
    "# Why am I adding my own 2*2 logic\n",
    "s += [\n",
    "    Or(X[i][j] == 0,\n",
    "       X[i+1][j] == 0,\n",
    "       X[i][j+1] == 0,\n",
    "       X[i+1][j+1] == 0)\n",
    "    for i in range(N-1) for j in range(N-1)\n",
    "]\n",
    "#\n",
    "#\n",
    "\n",
    "s += [And(val >= 0, val <= 9) for val in X.ravel()] # I assume this is the 0 to 9 constraint\n",
    "s += [And(val >= 1, val <= 17) for val in Y.ravel()] # I assume this is the length\n",
    "# s += Or([val==1 for val in Y.ravel()]) # I assume this garentees one 1\n",
    "\n",
    "# This makes it such that there are 9 9s, 8 8s, etc\n",
    "s += [PbEq([(X[i][j] == n, 1) for (i,j),_ in np.ndenumerate(X)], n) for n in range(1, N+1)] \n"
   ]
  },
  {
   "cell_type": "code",
   "execution_count": 30,
   "id": "5522b77d",
   "metadata": {},
   "outputs": [],
   "source": [
    "#s += [PbEq([(X[i][j] == n, 1) for (i,j),_ in np.ndenumerate(X)], n) for n in range(1, N+1)]\n",
    "s += [Implies(X[i][j]!=0, Or([X[ni][nj]!=0 for (ni,nj) in orthagonal(i, j, N)])) for (i,j),_ in np.ndenumerate(X)]\n",
    "\n",
    "for hook_number in [17, 15, 13, 11, 9, 7, 5, 3]:\n",
    "    s += hook_constraint(hook_number=hook_number, board=Y, N=N)\n",
    "    \n",
    "X17, X15, X13, X11, X9, X7, X5, X3 = Ints(\"x17 x15 x13 x11 x9 x7 x5 x3\")\n",
    "s += Distinct([X17, X15, X13, X11, X9, X7, X5, X3])\n",
    "\n",
    "y_to_x_mapping = dict[int, list]({17: X17, 15: X15, 13: X13, 11: X11, 9: X9, 7: X7, 5: X5, 3:X3})\n",
    "for y_value, x_variable in y_to_x_mapping.items():\n",
    "    s += [Implies(Y[i][j]==y_value, Or(X[i][j]==x_variable, X[i][j] == 0)) for (i,j),_ in np.ndenumerate(Y)]"
   ]
  },
  {
   "cell_type": "code",
   "execution_count": 31,
   "id": "6a31b4d9",
   "metadata": {},
   "outputs": [],
   "source": [
    "col = 2  \n",
    "s += [Or([\n",
    "    And(\n",
    "        X[row][col] == 3,\n",
    "        And([X[r][col] == 0 for r in range(row+1, N)])\n",
    "    )\n",
    "    for row in range(N)\n",
    "])]\n",
    "\n",
    "col = 6\n",
    "s += [Or([\n",
    "    And(\n",
    "        X[row][col] == 7,\n",
    "        And([X[r][col] == 0 for r in range(0, row)])  \n",
    "    )\n",
    "    for row in range(N)\n",
    "])]\n",
    "\n",
    "row = 3\n",
    "s += [Or([\n",
    "    And(\n",
    "        X[row][col] == 6,\n",
    "        And([X[row][c] == 0 for c in range(col)]) if col > 0 else True\n",
    "    )\n",
    "    for col in range(N)\n",
    "])]\n",
    "\n",
    "row = 5\n",
    "s += [Or([\n",
    "    And(\n",
    "        X[row][col] == 2,\n",
    "        And([X[row][c] == 0 for c in range(col+1, N)]) if col < N-1 else True\n",
    "    )\n",
    "    for col in range(N)\n",
    "])]"
   ]
  },
  {
   "cell_type": "code",
   "execution_count": 32,
   "id": "8b5c5ea7",
   "metadata": {},
   "outputs": [],
   "source": [
    "# Specify\n",
    "\n",
    "SHAPES = [\n",
    "    [(0,1), (1,0), (1,1), (1,2), (2,0)],   # F\n",
    "    [(0,0), (1,0), (2,0), (3,0), (4,0)],   # I\n",
    "    [(0,0), (1,0), (2,0), (3,0), (3,1)],   # L\n",
    "    [(0,0), (1,0), (2,0), (2,1), (3,1)],   # N\n",
    "    [(0,0), (0,1), (0,2), (1,1), (2,1)],   # T\n",
    "    [(0,0), (0,2), (1,0), (1,1), (1,2)],   # U\n",
    "    [(0,0), (1,0), (2,0), (2,1), (2,2)],   # V\n",
    "    [(0,0), (1,0), (1,1), (2,1), (2,2)],   # W\n",
    "    [(0,1), (1,0), (1,1), (1,2), (2,1)],   # X\n",
    "    [(0,0), (1,0), (2,0), (3,0), (2,1)],   # Y\n",
    "    [(0,0), (0,1), (1,1), (1,2), (1,3)],   # Z\n",
    "]"
   ]
  },
  {
   "cell_type": "code",
   "execution_count": 33,
   "id": "97996969",
   "metadata": {},
   "outputs": [],
   "source": [
    "def rotate(shape):\n",
    "    return [(c, -r) for r, c in shape]\n",
    "\n",
    "def reflect(shape):\n",
    "    return [(r, -c) for r, c in shape]\n",
    "\n",
    "def normalize(shape):\n",
    "    min_r = min(r for r,c in shape)\n",
    "    min_c = min(c for r,c in shape)\n",
    "    return sorted([(r-min_r, c-min_c) for r,c in shape])\n",
    "\n",
    "def unique_transformations(shape):\n",
    "    seen = set()\n",
    "    results = []\n",
    "    for s in [shape, reflect(shape)]:\n",
    "        for _ in range(4):\n",
    "            s = normalize(s)\n",
    "            t = tuple(s)\n",
    "            if t not in seen:\n",
    "                seen.add(t)\n",
    "                results.append(s)\n",
    "            s = rotate(s)\n",
    "    return results\n"
   ]
  },
  {
   "cell_type": "code",
   "execution_count": 34,
   "id": "2b61231a",
   "metadata": {},
   "outputs": [],
   "source": [
    "placements = []\n",
    "placement_vars = []\n",
    "for sid, base_shape in enumerate(SHAPES):\n",
    "    for shape in unique_transformations(base_shape):\n",
    "        for i in range(N):\n",
    "            for j in range(N):\n",
    "\n",
    "                if all(0 <= i+di < N and 0 <= j+dj < N for di,dj in shape):\n",
    "                    p = Bool(f\"place_{sid}_{i}_{j}_{hash(tuple(shape))}\")\n",
    "                    placements.append((p, sid, shape, i, j))\n",
    "                    placement_vars.append(p)\n"
   ]
  },
  {
   "cell_type": "code",
   "execution_count": 35,
   "id": "0c1e6be3",
   "metadata": {},
   "outputs": [],
   "source": [
    "#for sid in range(len(SHAPES)):\n",
    "#    # all placements that correspond to this shape\n",
    "#    shape_placements = [p for (p, sid2, _, _, _) in placements if sid2 == sid]\n",
    "#    # at most one placement can be chosen\n",
    "#    s.add(PbLe([(p, 1) for p in shape_placements], 1))"
   ]
  },
  {
   "cell_type": "code",
   "execution_count": 36,
   "id": "9786a561",
   "metadata": {},
   "outputs": [],
   "source": [
    "#for i in range(N):\n",
    "#    for j in range(N):\n",
    "#        covering = [p for p, _, shape, pi, pj in placements if (i-pi, j-pj) in shape]\n",
    "#        s += [Implies(X[i][j] != 0, PbEq([(p,1) for p in covering], 1))]\n",
    "#        s += [Implies(X[i][j] == 0, And([Not(p) for p in covering]))]"
   ]
  },
  {
   "cell_type": "code",
   "execution_count": 37,
   "id": "c3640264",
   "metadata": {},
   "outputs": [],
   "source": [
    "#for sid in range(len(SHAPES)):\n",
    "#    # Collect all placement Booleans for this shape\n",
    "#    shape_placements = [p for p, s, _, _, _ in placements if s == sid]\n",
    "#    \n",
    "#    # Add constraint: at most one placement can be True\n",
    "#    if shape_placements:\n",
    "#        s.add(AtMost(*shape_placements, 1))"
   ]
  },
  {
   "cell_type": "code",
   "execution_count": 38,
   "id": "2855c90e",
   "metadata": {},
   "outputs": [],
   "source": [
    "# Indices of SHAPES that must appear exactly once\n",
    "exactly_once_shapes = [1, 3, 11, 5, 9, 7]  # e.g., L and X must appear exactly once\n",
    "\n",
    "# Indices of SHAPES that may appear at most once\n",
    "at_most_once_shapes = [0, 2, 4, 6, 8, 10]  # rest of the shapes"
   ]
  },
  {
   "cell_type": "code",
   "execution_count": 39,
   "id": "3f9f57ac",
   "metadata": {},
   "outputs": [],
   "source": [
    "## Exactly once shapes\n",
    "#for sid in exactly_once_shapes:\n",
    "#    shape_placements = [p for p, s, _, _, _ in placements if s == sid]\n",
    "#    # At least one\n",
    "#    s.add(Or(shape_placements))\n",
    "#    # At most one\n",
    "#    for i in range(len(shape_placements)):\n",
    "#        for j in range(i+1, len(shape_placements)):\n",
    "#            s.add(Or(Not(shape_placements[i]), Not(shape_placements[j])))\n",
    "#\n",
    "## At most once shapes\n",
    "#for sid in at_most_once_shapes:\n",
    "#    shape_placements = [p for p, s, _, _, _ in placements if s == sid]\n",
    "#    # Only at most one (may not appear at all)\n",
    "#    for i in range(len(shape_placements)):\n",
    "#        for j in range(i+1, len(shape_placements)):\n",
    "#            s.add(Or(Not(shape_placements[i]), Not(shape_placements[j])))"
   ]
  },
  {
   "cell_type": "code",
   "execution_count": null,
   "id": "1876b086",
   "metadata": {},
   "outputs": [],
   "source": []
  },
  {
   "cell_type": "code",
   "execution_count": 40,
   "id": "4d33a6e6",
   "metadata": {},
   "outputs": [],
   "source": [
    "## Index of X shape in SHAPES\n",
    "#L_id = 11\n",
    "#\n",
    "## Collect all placement variables corresponding to X shapes\n",
    "#X_placements = [p for p, sid, shape, pi, pj in placements if sid == L_id]\n",
    "#\n",
    "## Add constraint: at least one X is placed\n",
    "#s.add(Or(X_placements))\n",
    "#\n",
    "## Index of X shape in SHAPES\n",
    "#L_id = 6\n",
    "#\n",
    "## Collect all placement variables corresponding to X shapes\n",
    "#X_placements = [p for p, sid, shape, pi, pj in placements if sid == L_id]\n",
    "#\n",
    "## Add constraint: at least one X is placed\n",
    "#s.add(Or(X_placements))"
   ]
  },
  {
   "cell_type": "code",
   "execution_count": 41,
   "id": "41ad274a",
   "metadata": {},
   "outputs": [],
   "source": [
    "def first_seen_in_row(placements, X, row, shape_id, N):\n",
    "    \"\"\"\n",
    "    Returns Z3 constraints enforcing that the first non-empty cell\n",
    "    in the specified row is covered by a placement of shape_id,\n",
    "    and that all previous cells in the row are empty.\n",
    "\n",
    "    Args:\n",
    "        placements: list of tuples (p, sid, shape, pi, pj)\n",
    "        X: 2D array of helper variables (optional, can be ignored)\n",
    "        row: the row index to enforce\n",
    "        shape_id: the shape ID (sid) that must appear first\n",
    "        N: size of the grid (number of columns)\n",
    "    \n",
    "    Returns:\n",
    "        A list of Z3 constraints\n",
    "    \"\"\"\n",
    "    clauses = []\n",
    "    found = False\n",
    "\n",
    "    for j in range(N):  # left to right in the row\n",
    "        if not found:\n",
    "            # Placements of the desired shape covering this cell\n",
    "            covering_shape = [p for p, sid, shape, pi, pj in placements\n",
    "                              if sid == shape_id and (row - pi, j - pj) in shape]\n",
    "            if covering_shape:\n",
    "                # Exactly one of these placements must cover the cell\n",
    "                clauses.append(PbEq([(p, 1) for p in covering_shape], 1))\n",
    "                \n",
    "                # All previous cells in the row must be empty\n",
    "                previous_clauses = []\n",
    "                for jj in range(j):\n",
    "                    covering_prev = [p for p, _, shape, pi, pj in placements if (row - pi, jj - pj) in shape]\n",
    "                    if covering_prev:\n",
    "                        previous_clauses.append(And([Not(p) for p in covering_prev]))\n",
    "                if previous_clauses:\n",
    "                    clauses.append(And(*previous_clauses))\n",
    "                    \n",
    "                found = True  # only first occurrence in the row matters\n",
    "\n",
    "\n",
    "    return clauses\n",
    "\n",
    "#row = 8\n",
    "#L_id = 11\n",
    "#first_seen_clauses = first_seen_in_row(placements, X, row, L_id, N)\n",
    "#s.add(And(*first_seen_clauses))\n",
    "#\n",
    "#row = 0\n",
    "#L_id = 4\n",
    "#first_seen_clauses = first_seen_in_row(placements, X, row, L_id, N)\n",
    "#s.add(And(*first_seen_clauses))"
   ]
  },
  {
   "cell_type": "code",
   "execution_count": 42,
   "id": "4f14a9b3",
   "metadata": {},
   "outputs": [],
   "source": [
    "#for p, sid, shape, pi, pj in placements:\n",
    "#    # Create integer variable for sum of cells in this placement\n",
    "#    area = Sum([If(X[pi+di][pj+dj] != 0, 1, 0) for di,dj in shape])\n",
    "#    # If placement is selected → area divisible by 3\n",
    "#    s += [Implies(p, area % 1 == 0)]"
   ]
  },
  {
   "cell_type": "code",
   "execution_count": 43,
   "id": "04b0b8f5",
   "metadata": {},
   "outputs": [],
   "source": [
    "def sol_print(numbers: np.ndarray, hooks: np.ndarray) -> None:\n",
    "    _,ax = plt.subplots(1,1,figsize=(8,8))\n",
    "    x = np.array((numbers).astype('int').astype('str'))\n",
    "    x[x==\"0\"] = \"-\"\n",
    "    ax = sns.heatmap(hooks,annot=x,cbar=False,cmap=\"tab10\",fmt=\"\",linewidths=0.25,annot_kws={\"fontsize\":12})\n",
    "    ax.set_xticks([])\n",
    "    ax.set_yticks([])\n",
    "    plt.tight_layout()\n",
    "    plt.show()\n",
    "\n",
    "def areas(grid: np.ndarray) -> int:\n",
    "    labels, num = measurements.label(np.logical_not(grid!=0))\n",
    "    areas = measurements.sum(np.logical_not(grid>=1), labels, index=range(1, num+1))\n",
    "    return int(np.prod(areas))"
   ]
  },
  {
   "cell_type": "code",
   "execution_count": 45,
   "id": "f6766fb5",
   "metadata": {},
   "outputs": [],
   "source": [
    "if s.check():\n",
    "    m = s.model()\n",
    "    evalu = np.vectorize(lambda x: m.evaluate(x).as_long())\n",
    "    result_x = np.array([[m.evaluate(X[i][j]).as_long() for j in range(N)] for i in range(N)])\n",
    "\n",
    "    # Connectivity check\n",
    "    if np.max(label(result_x != 0, connectivity=1)) == 1:\n",
    "        display(Markdown('## Total solve time of {:.3f} seconds'.format(time.time()-start)))\n",
    "        sol_print(numbers=result_x, hooks=evalu(Y))\n",
    "        display(Markdown('## Answer is: {:,.0f}'.format(areas(result_x))))\n",
    "else:\n",
    "    display(Markdown('**No solution found.**'))"
   ]
  },
  {
   "cell_type": "code",
   "execution_count": null,
   "id": "5c31ccd3",
   "metadata": {},
   "outputs": [],
   "source": [
    "import matplotlib.pyplot as plt\n",
    "import seaborn as sns\n",
    "import numpy as np\n",
    "\n",
    "def sol_print2(grid: np.ndarray) -> None:\n",
    "    \"\"\"\n",
    "    Plot a solution grid with shape IDs colored.\n",
    "    grid: 2D array where 0 = empty, >0 = shape ID\n",
    "    \"\"\"\n",
    "    annot = grid.astype(str)\n",
    "    annot[grid == 0] = \"-\"  # show empty cells as '-'\n",
    "\n",
    "    plt.figure(figsize=(8,8))\n",
    "    sns.heatmap(grid, annot=annot, fmt=\"\", cbar=False,\n",
    "                cmap=\"tab20\", linewidths=0.25, annot_kws={\"fontsize\":12})\n",
    "    plt.xticks([])\n",
    "    plt.yticks([])\n",
    "    plt.tight_layout()\n",
    "    plt.show()\n"
   ]
  },
  {
   "cell_type": "code",
   "execution_count": null,
   "id": "e60681cd",
   "metadata": {},
   "outputs": [
    {
     "data": {
      "image/png": "[encoded data removed]",
      "text/plain": [
       "<Figure size 800x800 with 1 Axes>"
      ]
     },
     "metadata": {},
     "output_type": "display_data"
    }
   ],
   "source": [
    "# Assume N x N grid\n",
    "grid = np.zeros((N, N), dtype=int)\n",
    "\n",
    "# Fill grid from placement variables\n",
    "for p, sid, shape, pi, pj in placements:\n",
    "    if m.evaluate(p):  # check if this placement is selected in the solution\n",
    "        for di, dj in shape:\n",
    "            grid[pi + di, pj + dj] = sid + 1  # +1 so empty cells are 0\n",
    "\n",
    "# Plot\n",
    "sol_print2(grid)"
   ]
  },
  {
   "cell_type": "code",
   "execution_count": 47,
   "id": "3e4a5556",
   "metadata": {},
   "outputs": [
    {
     "data": {
      "text/markdown": [
       "## Total solve time of 450.296 seconds"
      ],
      "text/plain": [
       "<IPython.core.display.Markdown object>"
      ]
     },
     "metadata": {},
     "output_type": "display_data"
    },
    {
     "data": {
      "image/png": "[encoded data removed]",
      "text/plain": [
       "<Figure size 800x800 with 1 Axes>"
      ]
     },
     "metadata": {},
     "output_type": "display_data"
    },
    {
     "name": "stderr",
     "output_type": "stream",
     "text": [
      "C:\\Users\\brian\\AppData\\Local\\Temp\\ipykernel_14880\\2877243823.py:12: DeprecationWarning: Please import `label` from the `scipy.ndimage` namespace; the `scipy.ndimage.measurements` namespace is deprecated and will be removed in SciPy 2.0.0.\n",
      "  labels, num = measurements.label(np.logical_not(grid!=0))\n",
      "C:\\Users\\brian\\AppData\\Local\\Temp\\ipykernel_14880\\2877243823.py:13: DeprecationWarning: Please import `sum` from the `scipy.ndimage` namespace; the `scipy.ndimage.measurements` namespace is deprecated and will be removed in SciPy 2.0.0.\n",
      "  areas = measurements.sum(np.logical_not(grid>=1), labels, index=range(1, num+1))\n"
     ]
    },
    {
     "data": {
      "text/markdown": [
       "## Answer is: 2,058"
      ],
      "text/plain": [
       "<IPython.core.display.Markdown object>"
      ]
     },
     "metadata": {},
     "output_type": "display_data"
    }
   ],
   "source": [
    "display(Markdown('## Total solve time of {:.3f} seconds'.format(time.time()-start)))\n",
    "sol_print(numbers=result_x, hooks=evalu(Y))\n",
    "display(Markdown('## Answer is: {:,.0f}'.format((areas(result_x)))))"
   ]
  },
  {
   "cell_type": "code",
   "execution_count": null,
   "id": "eabffdeb",
   "metadata": {},
   "outputs": [
    {
     "ename": "NameError",
     "evalue": "name 'adsf' is not defined",
     "output_type": "error",
     "traceback": [
      "\u001b[1;31m---------------------------------------------------------------------------\u001b[0m",
      "\u001b[1;31mNameError\u001b[0m                                 Traceback (most recent call last)",
      "Cell \u001b[1;32mIn[46], line 1\u001b[0m\n\u001b[1;32m----> 1\u001b[0m \u001b[43madsf\u001b[49m\n",
      "\u001b[1;31mNameError\u001b[0m: name 'adsf' is not defined"
     ]
    }
   ],
   "source": [
    "adsf"
   ]
  },
  {
   "cell_type": "code",
   "execution_count": null,
   "id": "67e9fba2",
   "metadata": {},
   "outputs": [
    {
     "data": {
      "text/markdown": [
       "## Total solve time of 1.323 seconds"
      ],
      "text/plain": [
       "<IPython.core.display.Markdown object>"
      ]
     },
     "metadata": {},
     "output_type": "display_data"
    },
    {
     "data": {
      "image/png": "[encoded data removed]",
      "text/plain": [
       "<Figure size 800x800 with 1 Axes>"
      ]
     },
     "metadata": {},
     "output_type": "display_data"
    },
    {
     "name": "stderr",
     "output_type": "stream",
     "text": [
      "C:\\Users\\brian\\AppData\\Local\\Temp\\ipykernel_28416\\2877243823.py:12: DeprecationWarning: Please import `label` from the `scipy.ndimage` namespace; the `scipy.ndimage.measurements` namespace is deprecated and will be removed in SciPy 2.0.0.\n",
      "  labels, num = measurements.label(np.logical_not(grid!=0))\n",
      "C:\\Users\\brian\\AppData\\Local\\Temp\\ipykernel_28416\\2877243823.py:13: DeprecationWarning: Please import `sum` from the `scipy.ndimage` namespace; the `scipy.ndimage.measurements` namespace is deprecated and will be removed in SciPy 2.0.0.\n",
      "  areas = measurements.sum(np.logical_not(grid>=1), labels, index=range(1, num+1))\n"
     ]
    },
    {
     "data": {
      "text/markdown": [
       "## Answer is: 1,650"
      ],
      "text/plain": [
       "<IPython.core.display.Markdown object>"
      ]
     },
     "metadata": {},
     "output_type": "display_data"
    }
   ],
   "source": [
    "display(Markdown('## Total solve time of {:.3f} seconds'.format(time.time()-start)))\n",
    "sol_print(numbers=result_x, hooks=evalu(Y))\n",
    "display(Markdown('## Answer is: {:,.0f}'.format((areas(result_x)))))"
   ]
  }
 ],
 "metadata": {
  "kernelspec": {
   "display_name": "Python 3",
   "language": "python",
   "name": "python3"
  },
  "language_info": {
   "codemirror_mode": {
    "name": "ipython",
    "version": 3
   },
   "file_extension": ".py",
   "mimetype": "text/x-python",
   "name": "python",
   "nbconvert_exporter": "python",
   "pygments_lexer": "ipython3",
   "version": "3.11.6"
  }
 },
 "nbformat": 4,
 "nbformat_minor": 5
}
