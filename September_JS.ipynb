{
 "cells": [
  {
   "cell_type": "code",
   "execution_count": 1,
   "id": "39b15282",
   "metadata": {},
   "outputs": [],
   "source": [
    "from z3 import *\n",
    "import numpy as np\n",
    "from itertools import product\n",
    "from skimage.morphology import label\n",
    "from scipy.ndimage import measurements\n",
    "import matplotlib.pyplot as plt\n",
    "import seaborn as sns\n",
    "from IPython.display import Markdown, display\n",
    "import time\n",
    "import warnings\n",
    "warnings.filterwarnings(\"ignore\", message=\"Please use `label` from the `scipy.ndimage` namespace\")\n",
    "warnings.filterwarnings(\"ignore\", message=\"Please use `sum` from the `scipy.ndimage` namespace\")"
   ]
  },
  {
   "cell_type": "code",
   "execution_count": 2,
   "id": "100e267d",
   "metadata": {},
   "outputs": [],
   "source": [
    "import numpy as np"
   ]
  },
  {
   "cell_type": "code",
   "execution_count": 3,
   "id": "ca27a487",
   "metadata": {},
   "outputs": [],
   "source": [
    "grid = np.array([[  0,  0,  0,  0,  5,  0,  0,  0,  0],\n",
    "                 [  0,  0,  0,  4,  0,  0,  0,  0,  0],\n",
    "                 [  0,  0,  0,  0,  0,  0,  0,  0,  0],\n",
    "                 [  0,  0,  0,  0,  0,  0,  0,  0,  0],\n",
    "                 [  0,  0,  0,  0,  1,  0,  0,  0,  0],\n",
    "                 [  0,  0,  0,  0,  0,  0,  0,  0,  0],\n",
    "                 [  0,  0,  0,  0,  0,  0,  0,  0,  0],\n",
    "                 [  0,  0,  0,  0,  0,  8,  0,  0,  0],\n",
    "                 [  0,  0,  0,  0,  9,  0,  0,  0,  0]], dtype=int)"
   ]
  },
  {
   "cell_type": "code",
   "execution_count": 4,
   "id": "41f276be",
   "metadata": {},
   "outputs": [],
   "source": [
    "#grid = np.array([[  0,  0,  0,  0,  0,  0,  0,  0,  0],\n",
    "#                 [  0,  0,  0,  0,  0,  0,  0,  0,  0],\n",
    "#                 [  0,  0,  0,  0,  0,  0,  0,  0,  0],\n",
    "#                 [  0,  0,  0,  0,  0,  0,  0,  0,  0],\n",
    "#                 [  0,  0,  0,  0,  0,  0,  0,  0,  0],\n",
    "#                 [  0,  0,  0,  0,  0,  0,  0,  0,  0],\n",
    "#                 [  0,  0,  0,  0,  0,  0,  0,  0,  0],\n",
    "#                 [  0,  0,  0,  0,  0,  0,  0,  0,  0],\n",
    "#                 [  0,  0,  0,  0,  0,  0,  0,  0,  0]], dtype=int)"
   ]
  },
  {
   "cell_type": "code",
   "execution_count": 5,
   "id": "c4f96c3b",
   "metadata": {},
   "outputs": [],
   "source": [
    "def make_hooks(n: int) -> np.ndarray:\n",
    "    matrix = np.ones((n, n), dtype=int) * (2*n -1)\n",
    "    matrix[1:,1:] = 0\n",
    "    return [np.rot90(matrix, i) for i in range(4)]\n",
    "\n",
    "hook_17, hook_15, hook_13, hook_11, hook_9, hook_7, hook_5, hook_3 = \\\n",
    "    make_hooks(9), make_hooks(8), make_hooks(7), make_hooks(6), make_hooks(5), make_hooks(4), make_hooks(3), make_hooks(2)\n",
    "    \n",
    "orthagonal = lambda i, j, N: [(i+di, j+dj) for (di,dj) in [(0,1),(1,0),(0,-1),(-1,0)] if 0<=i+di<N and 0<=j+dj<N]\n",
    "\n",
    "def hook_constraint(hook_number: int, board: np.ndarray, N: int) -> PbEq:\n",
    "    hook = dict[int, list]({17: hook_17, 15: hook_15, 13: hook_13, 11: hook_11, 9: hook_9, 7: hook_7, 5: hook_5, 3: hook_3}).get(hook_number)\n",
    "    shift = N+1 - (hook_number + 1) // 2\n",
    "    conditions = list[And]()\n",
    "    for shift_i, shift_j, h in product(range(shift), range(shift), hook):\n",
    "        conditions.append(And([board[i+shift_i][j+shift_j]==e for (i,j),e in np.ndenumerate(h) if e]))\n",
    "    return PbEq([(cond, 1) for cond in conditions], 1)"
   ]
  },
  {
   "cell_type": "code",
   "execution_count": 6,
   "id": "d958b950",
   "metadata": {},
   "outputs": [],
   "source": [
    "\n",
    "start = time.time()\n",
    "N = len(grid)\n",
    "s = Solver()\n",
    "Y = np.array(IntVector(\"y\", N**2), dtype=object).reshape((N,N)) # This is for the actual values\n",
    "X = np.array(IntVector(\"x\", N**2), dtype=object).reshape((N,N)) # Y is for the L-stuff\n",
    "\n",
    "# Adding the givens\n",
    "s += [X[i][j]==e for (i,j),e in np.ndenumerate(grid) if e!=0]\n",
    "\n",
    "#last_row = grid.shape[0] - 1\n",
    "#s.add(X[last_row][0] == 0)\n",
    "\n",
    "s += [Implies(X[i][j]!=0, Or([X[ni][nj]!=0 for (ni,nj) in orthagonal(i, j, N)])) \n",
    "      for (i,j),_ in np.ndenumerate(X)]\n",
    "\n",
    "# Why am I adding my own 2*2 logic\n",
    "s += [\n",
    "    Or(X[i][j] == 0,\n",
    "       X[i+1][j] == 0,\n",
    "       X[i][j+1] == 0,\n",
    "       X[i+1][j+1] == 0)\n",
    "    for i in range(N-1) for j in range(N-1)\n",
    "]\n",
    "#\n",
    "#\n",
    "\n",
    "s += [And(val >= 0, val <= 9) for val in X.ravel()] # I assume this is the 0 to 9 constraint\n",
    "s += [And(val >= 1, val <= 17) for val in Y.ravel()] # I assume this is the length\n",
    "# s += Or([val==1 for val in Y.ravel()]) # I assume this garentees one 1\n",
    "\n",
    "# This makes it such that there are 9 9s, 8 8s, etc\n",
    "s += [PbEq([(X[i][j] == n, 1) for (i,j),_ in np.ndenumerate(X)], n) for n in range(1, N+1)] \n"
   ]
  },
  {
   "cell_type": "code",
   "execution_count": null,
   "id": "dc159f77",
   "metadata": {},
   "outputs": [],
   "source": []
  },
  {
   "cell_type": "code",
   "execution_count": 7,
   "id": "5522b77d",
   "metadata": {},
   "outputs": [],
   "source": [
    "s += [PbEq([(X[i][j] == n, 1) for (i,j),_ in np.ndenumerate(X)], n) for n in range(1, N+1)]\n",
    "\n",
    "for hook_number in [17, 15, 13, 11, 9, 7, 5, 3]:\n",
    "    s += hook_constraint(hook_number=hook_number, board=Y, N=N)\n",
    "    \n",
    "s += [Implies(Y[i][j]==1, X[i][j]==1) for (i,j),_ in np.ndenumerate(grid)]\n",
    "s += [Implies(Y[i][j]>3, X[i][j]!=2) for (i,j),_ in np.ndenumerate(grid)]\n",
    "s += [X[i][j]<=Y[i][j] for (i,j),_ in np.ndenumerate(grid)]\n",
    "\n",
    "X17, X15, X13, X11, X9, X7, X5, X3 = Ints(\"x17 x15 x13 x11 x9 x7 x5 x3\")\n",
    "s += Distinct([X17, X15, X13, X11, X9, X7, X5, X3])\n",
    "\n",
    "y_to_x_mapping = dict[int, list]({17: X17, 15: X15, 13: X13, 11: X11, 9: X9, 7: X7, 5: X5, 3:X3})\n",
    "for y_value, x_variable in y_to_x_mapping.items():\n",
    "    s += [Implies(Y[i][j]==y_value, Or(X[i][j]==x_variable, X[i][j] == 0)) for (i,j),_ in np.ndenumerate(Y)]"
   ]
  },
  {
   "cell_type": "code",
   "execution_count": null,
   "id": "2f22e419",
   "metadata": {},
   "outputs": [],
   "source": []
  },
  {
   "cell_type": "code",
   "execution_count": 8,
   "id": "6a31b4d9",
   "metadata": {},
   "outputs": [],
   "source": [
    "col = 2  \n",
    "s += [Or([\n",
    "    And(\n",
    "        X[row][col] == 3,\n",
    "        And([X[r][col] == 0 for r in range(row+1, N)])\n",
    "    )\n",
    "    for row in range(N)\n",
    "])]\n",
    "\n",
    "col = 6\n",
    "s += [Or([\n",
    "    And(\n",
    "        X[row][col] == 7,\n",
    "        And([X[r][col] == 0 for r in range(0, row)])  \n",
    "    )\n",
    "    for row in range(N)\n",
    "])]\n",
    "\n",
    "row = 3\n",
    "s += [Or([\n",
    "    And(\n",
    "        X[row][col] == 6,\n",
    "        And([X[row][c] == 0 for c in range(col)]) if col > 0 else True\n",
    "    )\n",
    "    for col in range(N)\n",
    "])]\n",
    "\n",
    "row = 5\n",
    "s += [Or([\n",
    "    And(\n",
    "        X[row][col] == 2,\n",
    "        And([X[row][c] == 0 for c in range(col+1, N)]) if col < N-1 else True\n",
    "    )\n",
    "    for col in range(N)\n",
    "])]"
   ]
  },
  {
   "cell_type": "code",
   "execution_count": 9,
   "id": "8b5c5ea7",
   "metadata": {},
   "outputs": [],
   "source": [
    "SHAPES = [\n",
    "    [(0,1), (1,0), (1,1), (1,2), (2,0)],        # F\n",
    "    [(0,0), (1,0), (2,0), (3,0), (4,0)],        # I\n",
    "    [(0,0), (1,0), (2,0), (3,0), (3,1)],        # L\n",
    "    [(0,0), (1,0), (2,0), (2,1), (3,1)],        # N\n",
    "    [(0,0), (0,1), (1,0), (1,1), (2,0)],        # P\n",
    "    [(0,0), (0,1), (0,2), (1,1), (2,1)],        # T\n",
    "    [(0,0), (0,2), (1,0), (1,1), (1,2)],        # U\n",
    "    [(0,0), (1,0), (2,0), (2,1), (2,2)],        # V\n",
    "    [(0,0), (1,0), (1,1), (2,1), (2,2)],        # W\n",
    "    [(0,1), (1,0), (1,1), (1,2), (2,1)],        # X\n",
    "    [(0,0), (1,0), (2,0), (3,0), (2,1)],        # Y\n",
    "    [(0,0), (1,0), (1,1), (1,2), (2,2)],        # Z\n",
    "]\n",
    "\n",
    "#SHAPES = [\n",
    "#    [(0, 1), (1, 0), (1, 1), (1, 2), (2, 0)],  # F\n",
    "#    [(0, 0), (1, 0), (2, 0), (3, 0), (4, 0)],  # I\n",
    "#    [(0, 0), (1, 0), (2, 0), (3, 0), (3, 1)],  # L\n",
    "#    [(0, 0), (1, 0), (2, 0), (2, 1), (3, 1)],  # N\n",
    "#    [(0, 0), (0, 1), (0, 2), (1, 1), (2, 1)],  # T\n",
    "#    [(0, 0), (0, 2), (1, 0), (1, 1), (1, 2)],  # U\n",
    "#    [(0, 0), (1, 0), (2, 0), (2, 1), (2, 2)],  # V\n",
    "#    [(0, 0), (1, 0), (1, 1), (2, 1), (2, 2)],  # W\n",
    "#    [(0, 1), (1, 0), (1, 1), (1, 2), (2, 1)],  # X\n",
    "#    [(0, 0), (1, 0), (2, 0), (3, 0), (2, 1)],  # Y\n",
    "#    [(0, 0), (0, 1), (1, 1), (2, 1), (2, 2)],  # Z1\n",
    "#    [(0, 0), (0, 1), (0, 2), (0, 3), (0, 4)],  # I (vertical)\n",
    "#]\n",
    "#"
   ]
  },
  {
   "cell_type": "code",
   "execution_count": 10,
   "id": "fb2804d6",
   "metadata": {},
   "outputs": [],
   "source": [
    "SHAPE_INDEX = {\n",
    "    \"F\": 0,\n",
    "    \"I\": 1,\n",
    "    \"L\": 2,\n",
    "    \"N\": 3,\n",
    "    \"P\": 4,\n",
    "    \"T\": 5,\n",
    "    \"U\": 6,\n",
    "    \"V\": 7,\n",
    "    \"W\": 8,\n",
    "    \"X\": 9,\n",
    "    \"Y\": 10,\n",
    "    \"Z\": 11,\n",
    "}"
   ]
  },
  {
   "cell_type": "code",
   "execution_count": 11,
   "id": "017fed0b",
   "metadata": {},
   "outputs": [
    {
     "data": {
      "text/plain": [
       "[(0, 0), (1, 0), (1, 1), (1, 2), (2, 2)]"
      ]
     },
     "execution_count": 11,
     "metadata": {},
     "output_type": "execute_result"
    }
   ],
   "source": [
    "SHAPES[11]"
   ]
  },
  {
   "cell_type": "code",
   "execution_count": 12,
   "id": "97996969",
   "metadata": {},
   "outputs": [],
   "source": [
    "def rotate(shape):\n",
    "    return [(c, -r) for r, c in shape]\n",
    "\n",
    "def reflect(shape):\n",
    "    return [(r, -c) for r, c in shape]\n",
    "\n",
    "def normalize(shape):\n",
    "    min_r = min(r for r,c in shape)\n",
    "    min_c = min(c for r,c in shape)\n",
    "    return sorted([(r-min_r, c-min_c) for r,c in shape])\n",
    "\n",
    "def unique_transformations(shape):\n",
    "    seen = set()\n",
    "    results = []\n",
    "    for s in [shape, reflect(shape)]:\n",
    "        for _ in range(4):\n",
    "            s = normalize(s)\n",
    "            t = tuple(s)\n",
    "            if t not in seen:\n",
    "                seen.add(t)\n",
    "                results.append(s)\n",
    "            s = rotate(s)\n",
    "    return results\n"
   ]
  },
  {
   "cell_type": "code",
   "execution_count": 13,
   "id": "2b61231a",
   "metadata": {},
   "outputs": [],
   "source": [
    "#placements = []\n",
    "#placement_vars = []\n",
    "#for sid, base_shape in enumerate(SHAPES):\n",
    "#    for shape in unique_transformations(base_shape):\n",
    "#        for i in range(N):\n",
    "#            for j in range(N):\n",
    "#\n",
    "#                if all(0 <= i+di < N and 0 <= j+dj < N for di,dj in shape):\n",
    "#                    p = Bool(f\"place_{sid}_{i}_{j}_{hash(tuple(shape))}\")\n",
    "#                    placements.append((p, sid, shape, i, j))\n",
    "#                    placement_vars.append(p)"
   ]
  },
  {
   "cell_type": "code",
   "execution_count": 14,
   "id": "0c1e6be3",
   "metadata": {},
   "outputs": [],
   "source": [
    "#for sid in range(len(SHAPES)):\n",
    "#    # all placements that correspond to this shape\n",
    "#    shape_placements = [p for (p, sid2, _, _, _) in placements if sid2 == sid]\n",
    "#    # at most one placement can be chosen\n",
    "#    s += PbLe([(p, 1) for p in shape_placements], 1)"
   ]
  },
  {
   "cell_type": "code",
   "execution_count": 15,
   "id": "fc0e7c81",
   "metadata": {},
   "outputs": [],
   "source": [
    "#cell_coverings = {\n",
    "#    (i, j): [p for p, _, shape, pi, pj in placements if (i - pi, j - pj) in shape]\n",
    "#    for i in range(N) for j in range(N)\n",
    "#}"
   ]
  },
  {
   "cell_type": "code",
   "execution_count": 16,
   "id": "dd38cfbe",
   "metadata": {},
   "outputs": [],
   "source": [
    "#for i in range(N):\n",
    "#    for j in range(N):\n",
    "#        covering = cell_coverings[(i,j)]\n",
    "#        if covering:\n",
    "#            s += [\n",
    "#                Implies(X[i][j] != 0, And(AtMost(*covering, 1), AtLeast(*covering, 1))),\n",
    "#                Implies(X[i][j] == 0, Not(Or(covering)))\n",
    "#            ]\n",
    "#        else:\n",
    "#            s += [X[i][j] == 0] "
   ]
  },
  {
   "cell_type": "code",
   "execution_count": 17,
   "id": "c3640264",
   "metadata": {},
   "outputs": [],
   "source": [
    "#for sid in range(len(SHAPES)):\n",
    "#    # Collect all placement Booleans for this shape\n",
    "#    shape_placements = [p for p, s, _, _, _ in placements if s == sid]\n",
    "#    \n",
    "#    # Add constraint: at most one placement can be True\n",
    "#    if shape_placements:\n",
    "#        s.add(AtMost(*shape_placements, 1))"
   ]
  },
  {
   "cell_type": "code",
   "execution_count": 18,
   "id": "2855c90e",
   "metadata": {},
   "outputs": [],
   "source": [
    "# Indices of SHAPES that must appear exactly once\n",
    "exactly_once_shapes = [1, 3, 11, 5, 9, 7]  # e.g., L and X must appear exactly once\n",
    "\n",
    "# Indices of SHAPES that may appear at most once\n",
    "at_most_once_shapes = [0, 2, 4, 6, 8, 10]  # rest of the shapes"
   ]
  },
  {
   "cell_type": "code",
   "execution_count": 19,
   "id": "3f9f57ac",
   "metadata": {},
   "outputs": [],
   "source": [
    "## Exactly once shapes\n",
    "#for sid in exactly_once_shapes:\n",
    "#    shape_placements = [p for p, s, _, _, _ in placements if s == sid]\n",
    "#    # At least one\n",
    "#    s.add(Or(shape_placements))\n",
    "#    # At most one\n",
    "#    for i in range(len(shape_placements)):\n",
    "#        for j in range(i+1, len(shape_placements)):\n",
    "#            s.add(Or(Not(shape_placements[i]), Not(shape_placements[j])))\n",
    "#\n",
    "## At most once shapes\n",
    "#for sid in at_most_once_shapes:\n",
    "#    shape_placements = [p for p, s, _, _, _ in placements if s == sid]\n",
    "#    # Only at most one (may not appear at all)\n",
    "#    for i in range(len(shape_placements)):\n",
    "#        for j in range(i+1, len(shape_placements)):\n",
    "#            s.add(Or(Not(shape_placements[i]), Not(shape_placements[j])))"
   ]
  },
  {
   "cell_type": "code",
   "execution_count": 20,
   "id": "1876b086",
   "metadata": {},
   "outputs": [],
   "source": [
    "from collections import defaultdict\n",
    "\n",
    "placements = []         # list of dicts: {var, sid, shape, i, j, cells, mask}\n",
    "placement_vars = []     # list of Bool Z3 vars (same order as placements)\n",
    "cell_coverings = defaultdict(list)   # (i,j) -> list of placement Bool vars\n",
    "\n",
    "\n",
    "def normalize(shape):\n",
    "    \"\"\"Return a canonical, sorted tuple of offsets with min coords shifted to (0,0).\"\"\"\n",
    "    # shape: iterable of (di,dj)\n",
    "    min_i = min(di for di,dj in shape)\n",
    "    min_j = min(dj for di,dj in shape)\n",
    "    return tuple(sorted(((di - min_i, dj - min_j) for di,dj in shape)))\n",
    "\n",
    "for sid, base_shape in enumerate(SHAPES):\n",
    "    seen = set()            # avoid duplicate transformed shapes for this base_shape\n",
    "    for trans_idx, shape in enumerate(unique_transformations(base_shape)):\n",
    "        norm = normalize(shape)\n",
    "        if norm in seen:\n",
    "            continue\n",
    "        seen.add(norm)\n",
    "\n",
    "        # compute bounding box of the normalized shape\n",
    "        height = max(di for di,dj in norm) + 1\n",
    "        width  = max(dj for di,dj in norm) + 1\n",
    "\n",
    "        # only iterate top-left positions that allow the shape to fully fit\n",
    "        for i0 in range(0, N - height + 1):\n",
    "            for j0 in range(0, N - width + 1):\n",
    "                cells = [(i0 + di, j0 + dj) for di,dj in norm]\n",
    "\n",
    "                idx = len(placements)\n",
    "                p = Bool(f\"p_{idx}\")     # short deterministic name (faster than hashing)\n",
    "                # optional: integer bitmask of the covered cells (python int)\n",
    "                mask = 0\n",
    "                for (ci, cj) in cells:\n",
    "                    mask |= 1 << (ci * N + cj)\n",
    "\n",
    "                placements.append({\n",
    "                    'var': p,\n",
    "                    'sid': sid,\n",
    "                    'shape': norm,\n",
    "                    'i': i0,\n",
    "                    'j': j0,\n",
    "                    'cells': cells,\n",
    "                    'mask': mask\n",
    "                })\n",
    "                placement_vars.append(p)\n",
    "\n",
    "                # register this placement under every covered cell (fast incremental build)\n",
    "                for (ci, cj) in cells:\n",
    "                    cell_coverings[(ci, cj)].append(p)\n",
    "\n",
    "for i, j in product(range(N), range(N)):\n",
    "    covering = cell_coverings.get((i, j), [])\n",
    "    if covering:\n",
    "        # If cell is non-zero: exactly one placement covers it\n",
    "        s.add(Implies(X[i][j] != 0, PbEq([(p, 1) for p in covering], 1)))\n",
    "        # If cell is zero: none of the placements that would cover it can be present\n",
    "        s.add(Implies(X[i][j] == 0, Not(Or(*covering))))\n",
    "    else:\n",
    "        s.add(X[i][j] == 0)\n",
    "\n",
    "placements_by_shape = defaultdict(list)\n",
    "\n",
    "for placement in placements:\n",
    "    sid = placement['sid']      # which base shape it comes from\n",
    "    p = placement['var']        # the Bool variable for this placement\n",
    "    placements_by_shape[sid].append(p)\n",
    "\n",
    "for sid, vars in placements_by_shape.items():\n",
    "    s.add(PbLe([(p, 1) for p in vars], 1))"
   ]
  },
  {
   "cell_type": "code",
   "execution_count": 21,
   "id": "62fbea7d",
   "metadata": {},
   "outputs": [],
   "source": [
    "#Z_SID = 13  # index of Z in your SHAPES list\n",
    "#bottom_row = 0  # adjust if your bottom row is different\n",
    "#\n",
    "## z_placements: list of (BoolVar, cells)\n",
    "#z_placements = [(p['var'], p['cells']) for p in placements if p['sid'] == Z_SID]\n",
    "#\n",
    "#first_nonzero_constraints = []\n",
    "#\n",
    "#for i in range(N):         # rows bottom → top\n",
    "#    for j in range(N):     # columns left → right\n",
    "#        # cell (i,j) is covered by some Z placement\n",
    "#        z_cover = Or([p for p, cells in z_placements if (i,j) in cells])\n",
    "#\n",
    "#        # all cells before (i,j) are empty\n",
    "#        previous_empty = []\n",
    "#        for ii in range(i+1):       # rows 0..i\n",
    "#            jj_max = j if ii == i else N-1\n",
    "#            for jj in range(jj_max + 1):\n",
    "#                previous_empty.append(X[ii][jj] == 0)\n",
    "#        \n",
    "#        first_nonzero_constraints.append(And(z_cover, And(previous_empty)))\n",
    "#\n",
    "## Enforce that the first non-zero cell is covered by Z\n",
    "#s.add(Or(first_nonzero_constraints))\n",
    "#"
   ]
  },
  {
   "cell_type": "code",
   "execution_count": 22,
   "id": "4d33a6e6",
   "metadata": {},
   "outputs": [],
   "source": [
    "## Index of X shape in SHAPES\n",
    "#L_id = 11\n",
    "#\n",
    "## Collect all placement variables corresponding to X shapes\n",
    "#X_placements = [p for p, sid, shape, pi, pj in placements if sid == L_id]\n",
    "#\n",
    "## Add constraint: at least one X is placed\n",
    "#s.add(Or(X_placements))\n",
    "#\n",
    "## Index of X shape in SHAPES\n",
    "#L_id = 6\n",
    "#\n",
    "## Collect all placement variables corresponding to X shapes\n",
    "#X_placements = [p for p, sid, shape, pi, pj in placements if sid == L_id]\n",
    "#\n",
    "## Add constraint: at least one X is placed\n",
    "#s.add(Or(X_placements))"
   ]
  },
  {
   "cell_type": "code",
   "execution_count": 23,
   "id": "41ad274a",
   "metadata": {},
   "outputs": [],
   "source": [
    "def first_seen_in_row_left_to_right_allow_empty_after(placements, X, row, shape_id, N):\n",
    "    \"\"\"\n",
    "    Enforces that the first occurrence of shape_id from left to right\n",
    "    in the row covers a cell, all cells to the left of it are empty,\n",
    "    but allows empty cells after it.\n",
    "    \"\"\"\n",
    "\n",
    "    clauses = []\n",
    "\n",
    "    for j in range(N):\n",
    "        # all placements of the target shape covering this cell\n",
    "        covering_shape = [p['var'] for p in placements\n",
    "                          if p['sid'] == shape_id and (row, j) in p['cells']]\n",
    "        if covering_shape:\n",
    "            # this is a candidate for the first shape from the left\n",
    "            # require one of these placements to cover this cell\n",
    "            shape_clause = PbEq([(p, 1) for p in covering_shape], 1)\n",
    "\n",
    "            # all cells to the left of j must be empty\n",
    "            left_empty = []\n",
    "            for jj in range(0, j):\n",
    "                covering_left = [p['var'] for p in placements if (row, jj) in p['cells']]\n",
    "                if covering_left:\n",
    "                    left_empty.append(And([Not(p) for p in covering_left]))\n",
    "            if left_empty:\n",
    "                shape_clause = And(shape_clause, And(*left_empty))\n",
    "\n",
    "            clauses.append(shape_clause)\n",
    "\n",
    "    return [Or(clauses)]\n",
    "\n",
    "\n",
    "Z_SID = SHAPE_INDEX['Z']    # or whichever index is your Z shape\n",
    "row = 8      # row to enforce\n",
    "N = len(X[0])\n",
    "\n",
    "clauses = first_seen_in_row_left_to_right_allow_empty_after(placements, X, row, Z_SID, N)\n",
    "for c in clauses:\n",
    "    s.add(c)\n",
    "\n",
    "Z_SID = SHAPE_INDEX['I']   # or whichever index is your Z shape\n",
    "row = 0      # row to enforce\n",
    "N = len(X[0])\n",
    "\n",
    "clauses = first_seen_in_row_left_to_right_allow_empty_after(placements, X, row, Z_SID, N)\n",
    "for c in clauses:\n",
    "    s.add(c)\n",
    "\n",
    "Z_SID =  SHAPE_INDEX['N'] \n",
    "row = 5      \n",
    "N = len(X[0])\n",
    "\n",
    "clauses = first_seen_in_row_left_to_right_allow_empty_after(placements, X, row, Z_SID, N)\n",
    "for c in clauses:\n",
    "    s.add(c)"
   ]
  },
  {
   "cell_type": "code",
   "execution_count": 24,
   "id": "359aae06",
   "metadata": {},
   "outputs": [
    {
     "data": {
      "text/plain": [
       "11"
      ]
     },
     "execution_count": 24,
     "metadata": {},
     "output_type": "execute_result"
    }
   ],
   "source": [
    "SHAPE_INDEX['Z']"
   ]
  },
  {
   "cell_type": "code",
   "execution_count": 25,
   "id": "6223f061",
   "metadata": {},
   "outputs": [],
   "source": [
    "def first_seen_in_row_right_to_left_allow_empty_before(placements, X, row, shape_id, N):\n",
    "    \"\"\"\n",
    "    Enforces that the first occurrence of shape_id from right to left\n",
    "    in the row covers a cell, all cells to the right of it are empty,\n",
    "    but allows empty cells before it.\n",
    "    \"\"\"\n",
    "\n",
    "    clauses = []\n",
    "\n",
    "    for j in reversed(range(N)):\n",
    "        # all placements of the target shape covering this cell\n",
    "        covering_shape = [p['var'] for p in placements\n",
    "                          if p['sid'] == shape_id and (row, j) in p['cells']]\n",
    "        if covering_shape:\n",
    "            # this is a candidate for the first shape from the right\n",
    "            # require one of these placements to cover this cell\n",
    "            shape_clause = PbEq([(p, 1) for p in covering_shape], 1)\n",
    "\n",
    "            # all cells to the right of j must be empty\n",
    "            right_empty = []\n",
    "            for jj in range(j + 1, N):\n",
    "                covering_right = [p['var'] for p in placements if (row, jj) in p['cells']]\n",
    "                if covering_right:\n",
    "                    right_empty.append(And([Not(p) for p in covering_right]))\n",
    "            if right_empty:\n",
    "                shape_clause = And(shape_clause, And(*right_empty))\n",
    "\n",
    "            clauses.append(shape_clause)\n",
    "\n",
    "    return [Or(clauses)]\n"
   ]
  },
  {
   "cell_type": "code",
   "execution_count": 26,
   "id": "f82ad906",
   "metadata": {},
   "outputs": [],
   "source": [
    "Z_SID = SHAPE_INDEX['V']    # index of Z shape\n",
    "row = 8\n",
    "N = len(X[0])\n",
    "\n",
    "clauses = first_seen_in_row_right_to_left_allow_empty_before(placements, X, row, Z_SID, N)\n",
    "for c in clauses:\n",
    "    s.add(c)\n",
    "\n",
    "Z_SID =  SHAPE_INDEX['X']    # index of Z shape\n",
    "row = 3\n",
    "N = len(X[0])\n",
    "\n",
    "clauses = first_seen_in_row_right_to_left_allow_empty_before(placements, X, row, Z_SID, N)\n",
    "for c in clauses:\n",
    "    s.add(c)\n",
    "\n",
    "Z_SID = SHAPE_INDEX['U']   # index of Z shape\n",
    "row = 0\n",
    "N = len(X[0])\n",
    "\n",
    "clauses = first_seen_in_row_right_to_left_allow_empty_before(placements, X, row, Z_SID, N)\n",
    "for c in clauses:\n",
    "    s.add(c)"
   ]
  },
  {
   "cell_type": "code",
   "execution_count": 27,
   "id": "4f14a9b3",
   "metadata": {},
   "outputs": [],
   "source": [
    "#for placement in placements:\n",
    "#    p = placement['var']\n",
    "#    shape = placement['shape']\n",
    "#    i0 = placement['i']\n",
    "#    j0 = placement['j']\n",
    "#\n",
    "#    # sum of cells covered by this placement that are non-zero\n",
    "#    area = Sum([If(X[i0 + di][j0 + dj] != 0, 1, 0) for di, dj in shape])\n",
    "#\n",
    "#    # If placement is selected → area divisible by 2 OR 3 OR 5\n",
    "#    s.add(Implies(p, Or(area % 2 == 0,\n",
    "#                        area % 3 == 0,\n",
    "#                        area % 5 == 0)))"
   ]
  },
  {
   "cell_type": "code",
   "execution_count": 28,
   "id": "b9842759",
   "metadata": {},
   "outputs": [],
   "source": [
    "# --- Connectivity enforcement ---\n",
    "D = np.array(IntVector(\"d\", N*N), dtype=object).reshape((N, N))\n",
    "s += [And(D[i][j] >= 0, D[i][j] <= N*N) for i in range(N) for j in range(N)]\n",
    "\n",
    "# root selector booleans\n",
    "R = np.array(BoolVector(\"r\", N*N), dtype=object).reshape((N, N))\n",
    "\n",
    "# root must be filled\n",
    "s += [Implies(R[i][j], X[i][j] != 0) for i in range(N) for j in range(N)]\n",
    "\n",
    "# exactly one root\n",
    "s += [PbEq([(R[i][j], 1) for i in range(N) for j in range(N)], 1)]\n",
    "\n",
    "# root has distance 1\n",
    "s += [Implies(R[i][j], D[i][j] == 1) for i in range(N) for j in range(N)]\n",
    "\n",
    "# if empty → distance 0; if filled → 1..N*N\n",
    "num_filled = Sum([If(X[i][j] != 0, 1, 0) for i in range(N) for j in range(N)])\n",
    "for i in range(N):\n",
    "    for j in range(N):\n",
    "        s += [Implies(X[i][j] == 0, D[i][j] == 0),\n",
    "              Implies(X[i][j] != 0, And(D[i][j] >= 1, D[i][j] <= num_filled))]\n",
    "\n",
    "# neighbor helper\n",
    "def neighbors(i, j):\n",
    "    for di, dj in [(-1,0),(1,0),(0,-1),(0,1)]:\n",
    "        ni, nj = i + di, j + dj\n",
    "        if 0 <= ni < N and 0 <= nj < N:\n",
    "            yield (ni, nj)\n",
    "\n",
    "# connectivity: every non-root filled cell has a filled neighbor with smaller D\n",
    "for i in range(N):\n",
    "    for j in range(N):\n",
    "        neigh_conds = [And(X[ni][nj] != 0, D[ni][nj] < D[i][j]) for (ni,nj) in neighbors(i,j)]\n",
    "        s += [Implies(And(X[i][j] != 0, Not(R[i][j])), Or(*neigh_conds))]\n"
   ]
  },
  {
   "cell_type": "code",
   "execution_count": 29,
   "id": "04b0b8f5",
   "metadata": {},
   "outputs": [],
   "source": [
    "def sol_print(numbers: np.ndarray, hooks: np.ndarray) -> None:\n",
    "    _,ax = plt.subplots(1,1,figsize=(8,8))\n",
    "    x = np.array((numbers).astype('int').astype('str'))\n",
    "    x[x==\"0\"] = \"-\"\n",
    "    ax = sns.heatmap(hooks,annot=x,cbar=False,cmap=\"tab10\",fmt=\"\",linewidths=0.25,annot_kws={\"fontsize\":12})\n",
    "    ax.set_xticks([])\n",
    "    ax.set_yticks([])\n",
    "    plt.tight_layout()\n",
    "    plt.show()\n",
    "\n",
    "\n",
    "def sol_print2(grid: np.ndarray) -> None:\n",
    "    \"\"\"\n",
    "    Plot a solution grid with shape IDs colored.\n",
    "    grid: 2D array where 0 = empty, >0 = shape ID\n",
    "    \"\"\"\n",
    "    annot = grid.astype(str)\n",
    "    annot[grid == 0] = \"-\"  # show empty cells as '-'\n",
    "\n",
    "    plt.figure(figsize=(8,8))\n",
    "    sns.heatmap(grid, annot=annot, fmt=\"\", cbar=False,\n",
    "                cmap=\"tab20\", linewidths=0.25, annot_kws={\"fontsize\":12})\n",
    "    plt.xticks([])\n",
    "    plt.yticks([])\n",
    "    plt.tight_layout()\n",
    "    plt.show()\n",
    "\n",
    "def areas(grid: np.ndarray) -> int:\n",
    "    labels, num = measurements.label(np.logical_not(grid!=0))\n",
    "    areas = measurements.sum(np.logical_not(grid>=1), labels, index=range(1, num+1))\n",
    "    return int(np.prod(areas))"
   ]
  },
  {
   "cell_type": "code",
   "execution_count": 30,
   "id": "87b28747",
   "metadata": {},
   "outputs": [],
   "source": [
    "def sol_print2(grid: np.ndarray) -> None:\n",
    "    \"\"\"\n",
    "    Plot a solution grid with shape IDs colored.\n",
    "    grid: 2D array where 0 = empty, >0 = shape ID\n",
    "    \"\"\"\n",
    "    annot = grid.astype(str)\n",
    "    annot[grid == 0] = \"-\"  # show empty cells as '-'\n",
    "\n",
    "    plt.figure(figsize=(8,8))\n",
    "    sns.heatmap(grid, annot=annot, fmt=\"\", cbar=False,\n",
    "                cmap=\"tab20\", linewidths=0.25, annot_kws={\"fontsize\":12})\n",
    "    plt.xticks([])\n",
    "    plt.yticks([])\n",
    "    plt.tight_layout()\n",
    "    plt.show()"
   ]
  },
  {
   "cell_type": "code",
   "execution_count": 31,
   "id": "17864e8c",
   "metadata": {},
   "outputs": [
    {
     "name": "stdout",
     "output_type": "stream",
     "text": [
      "Time: 443.28378105163574 seconds\n",
      "Shape 0 placed at (1,2), covers [(1, 3), (2, 2), (2, 3), (2, 4), (3, 4)]\n",
      "Shape 1 placed at (0,1), covers [(0, 1), (0, 2), (0, 3), (0, 4), (0, 5)]\n",
      "Shape 2 placed at (1,1), covers [(1, 1), (2, 1), (3, 1), (4, 1), (4, 2)]\n",
      "Shape 3 placed at (4,0), covers [(4, 0), (5, 0), (6, 0), (6, 1), (7, 1)]\n",
      "Shape 5 placed at (4,2), covers [(4, 4), (5, 2), (5, 3), (5, 4), (6, 4)]\n",
      "Shape 6 placed at (0,6), covers [(0, 6), (0, 8), (1, 6), (1, 7), (1, 8)]\n",
      "Shape 7 placed at (6,6), covers [(6, 8), (7, 8), (8, 6), (8, 7), (8, 8)]\n",
      "Shape 9 placed at (2,6), covers [(2, 7), (3, 6), (3, 7), (3, 8), (4, 7)]\n",
      "Shape 11 placed at (6,4), covers [(6, 6), (7, 4), (7, 5), (7, 6), (8, 4)]\n"
     ]
    },
    {
     "data": {
      "text/markdown": [
       "## Total solve time of 447.856 seconds"
      ],
      "text/plain": [
       "<IPython.core.display.Markdown object>"
      ]
     },
     "metadata": {},
     "output_type": "display_data"
    },
    {
     "data": {
      "image/png": "[encoded data removed]",
      "text/plain": [
       "<Figure size 800x800 with 1 Axes>"
      ]
     },
     "metadata": {},
     "output_type": "display_data"
    },
    {
     "name": "stderr",
     "output_type": "stream",
     "text": [
      "C:\\Users\\brian\\AppData\\Local\\Temp\\ipykernel_22072\\3518616275.py:29: DeprecationWarning: Please import `label` from the `scipy.ndimage` namespace; the `scipy.ndimage.measurements` namespace is deprecated and will be removed in SciPy 2.0.0.\n",
      "  labels, num = measurements.label(np.logical_not(grid!=0))\n",
      "C:\\Users\\brian\\AppData\\Local\\Temp\\ipykernel_22072\\3518616275.py:30: DeprecationWarning: Please import `sum` from the `scipy.ndimage` namespace; the `scipy.ndimage.measurements` namespace is deprecated and will be removed in SciPy 2.0.0.\n",
      "  areas = measurements.sum(np.logical_not(grid>=1), labels, index=range(1, num+1))\n"
     ]
    },
    {
     "data": {
      "text/markdown": [
       "## Answer is: 1,620"
      ],
      "text/plain": [
       "<IPython.core.display.Markdown object>"
      ]
     },
     "metadata": {},
     "output_type": "display_data"
    },
    {
     "data": {
      "text/markdown": [
       "## Total solve time of 448.115 seconds"
      ],
      "text/plain": [
       "<IPython.core.display.Markdown object>"
      ]
     },
     "metadata": {},
     "output_type": "display_data"
    },
    {
     "data": {
      "image/png": "[encoded data removed]",
      "text/plain": [
       "<Figure size 800x800 with 1 Axes>"
      ]
     },
     "metadata": {},
     "output_type": "display_data"
    },
    {
     "name": "stderr",
     "output_type": "stream",
     "text": [
      "C:\\Users\\brian\\AppData\\Local\\Temp\\ipykernel_22072\\3518616275.py:29: DeprecationWarning: Please import `label` from the `scipy.ndimage` namespace; the `scipy.ndimage.measurements` namespace is deprecated and will be removed in SciPy 2.0.0.\n",
      "  labels, num = measurements.label(np.logical_not(grid!=0))\n",
      "C:\\Users\\brian\\AppData\\Local\\Temp\\ipykernel_22072\\3518616275.py:30: DeprecationWarning: Please import `sum` from the `scipy.ndimage` namespace; the `scipy.ndimage.measurements` namespace is deprecated and will be removed in SciPy 2.0.0.\n",
      "  areas = measurements.sum(np.logical_not(grid>=1), labels, index=range(1, num+1))\n"
     ]
    },
    {
     "data": {
      "text/markdown": [
       "## Answer is: 1,620"
      ],
      "text/plain": [
       "<IPython.core.display.Markdown object>"
      ]
     },
     "metadata": {},
     "output_type": "display_data"
    }
   ],
   "source": [
    "start2 = time.time()\n",
    "if s.check():\n",
    "    end = time.time()\n",
    "    print(\"Time:\", end - start2, \"seconds\")\n",
    "    \n",
    "    m = s.model()\n",
    "    evalu = np.vectorize(lambda x: m.evaluate(x).as_long())\n",
    "    # collect chosen placements\n",
    "    chosen = [pinfo for pinfo in placements if m.evaluate(pinfo[\"var\"], model_completion=True)]\n",
    "\n",
    "    # Build grid with shape IDs (sid+1 so 0 = empty, >0 = shape)\n",
    "    result_x = np.zeros((N, N), dtype=int)\n",
    "    for pinfo in chosen:\n",
    "        sid = pinfo[\"sid\"]\n",
    "        for (ci, cj) in pinfo[\"cells\"]:\n",
    "            result_x[ci, cj] = sid + 1\n",
    "\n",
    "    # --- Print chosen placements / shapes ---\n",
    "    for pinfo in chosen:\n",
    "        sid = pinfo[\"sid\"]\n",
    "        i0, j0 = pinfo[\"i\"], pinfo[\"j\"]\n",
    "        cells = pinfo[\"cells\"]\n",
    "        print(f\"Shape {sid} placed at ({i0},{j0}), covers {cells}\")\n",
    "\n",
    "    # --- Connectivity check (optional) ---\n",
    "    # If you want to enforce connectivity, replace `True` with an actual check:\n",
    "    # if np.max(label(result_x != 0, connectivity=1)) == 1:\n",
    "    if np.max(label(result_x!= 0, connectivity=1)) == 1:\n",
    "        display(Markdown('## Total solve time of {:.3f} seconds'.format(time.time()-start)))\n",
    "        sol_print(numbers=result_x, hooks=evalu(Y))\n",
    "        display(Markdown('## Answer is: {:,.0f}'.format(areas(result_x))))\n",
    "        \n",
    "    if np.max(label(result_x!= 0, connectivity=1)) == 1:\n",
    "        display(Markdown('## Total solve time of {:.3f} seconds'.format(time.time()-start)))\n",
    "        sol_print2(result_x)  # colored plot \n",
    "        display(Markdown('## Answer is: {:,.0f}'.format(areas(result_x))))\n",
    "else:\n",
    "    display(Markdown('**No solution found.**'))\n",
    "    "
   ]
  },
  {
   "cell_type": "code",
   "execution_count": 32,
   "id": "054181ec",
   "metadata": {},
   "outputs": [
    {
     "data": {
      "text/plain": [
       "1"
      ]
     },
     "execution_count": 32,
     "metadata": {},
     "output_type": "execute_result"
    }
   ],
   "source": [
    "np.max(label(result_x!= 0, connectivity=1))"
   ]
  },
  {
   "cell_type": "code",
   "execution_count": 33,
   "id": "aa0cfca6",
   "metadata": {},
   "outputs": [],
   "source": [
    "grid = np.array([[  5,  5,  5,  5,  5,  0,  7,  0,  9],\n",
    "                 [  0,  4,  0,  4,  0,  0,  7,  8,  9],\n",
    "                 [  0,  6,  6,  6,  6,  0,  0,  8,  0],\n",
    "                 [  0,  6,  0,  0,  3,  0,  7,  8,  9],\n",
    "                 [  4,  6,  3,  0,  1,  0,  0,  8,  0],\n",
    "                 [  4,  0,  3,  2,  2,  0,  0,  0,  0],\n",
    "                 [  7,  7,  0,  0,  7,  0,  7,  0,  9],\n",
    "                 [  0,  8,  0,  0,  8,  8,  8,  0,  9],\n",
    "                 [  0,  0,  0,  0,  9,  0,  9,  9,  9]], dtype=int)"
   ]
  },
  {
   "cell_type": "code",
   "execution_count": null,
   "id": "acbc60fe",
   "metadata": {},
   "outputs": [
    {
     "data": {
      "image/png": "[encoded data removed]",
      "text/plain": [
       "<Figure size 600x600 with 1 Axes>"
      ]
     },
     "metadata": {},
     "output_type": "display_data"
    },
    {
     "ename": "",
     "evalue": "",
     "output_type": "error",
     "traceback": [
      "\u001b[1;31mThe Kernel crashed while executing code in the current cell or a previous cell. \n",
      "\u001b[1;31mPlease review the code in the cell(s) to identify a possible cause of the failure. \n",
      "\u001b[1;31mClick <a href='https://aka.ms/vscodeJupyterKernelCrash'>here</a> for more info. \n",
      "\u001b[1;31mView Jupyter <a href='command:jupyter.viewOutput'>log</a> for further details."
     ]
    }
   ],
   "source": [
    "import numpy as np\n",
    "import matplotlib.pyplot as plt\n",
    "\n",
    "grid = np.array([[  0,  5,  5,  5,  5,  5,  7,  0,  9],\n",
    "                 [  0,  4,  0,  4,  0,  0,  7,  8,  9],\n",
    "                 [  0,  6,  6,  6,  6,  0,  0,  8,  0],\n",
    "                 [  0,  6,  0,  0,  3,  0,  7,  8,  9],\n",
    "                 [  4,  6,  3,  0,  1,  0,  0,  8,  0],\n",
    "                 [  4,  0,  3,  2,  2,  0,  0,  0,  0],\n",
    "                 [  7,  7,  0,  0,  7,  0,  7,  0,  9],\n",
    "                 [  0,  8,  0,  0,  8,  8,  8,  0,  9],\n",
    "                 [  0,  0,  0,  0,  9,  0,  9,  9,  9]], dtype=int)\n",
    "\n",
    "fig, ax = plt.subplots(figsize=(6, 6))\n",
    "\n",
    "# Draw empty grid (white background)\n",
    "ax.imshow(np.ones_like(grid), cmap=\"gray\", vmin=0, vmax=1)\n",
    "\n",
    "# Add grid lines\n",
    "ax.set_xticks(np.arange(-0.5, grid.shape[1], 1), minor=True)\n",
    "ax.set_yticks(np.arange(-0.5, grid.shape[0], 1), minor=True)\n",
    "ax.grid(which=\"minor\", color=\"black\", linestyle=\"-\", linewidth=1)\n",
    "\n",
    "# Remove axis ticks\n",
    "ax.tick_params(which=\"both\", bottom=False, left=False, labelbottom=False, labelleft=False)\n",
    "\n",
    "# Add numbers in cells\n",
    "for i in range(grid.shape[0]):\n",
    "    for j in range(grid.shape[1]):\n",
    "        if grid[i, j] != 0:  # only show nonzero numbers\n",
    "            ax.text(j, i, str(grid[i, j]),\n",
    "                    ha='center', va='center', fontsize=12, fontweight='bold')\n",
    "\n",
    "plt.show()\n",
    "\n"
   ]
  },
  {
   "cell_type": "code",
   "execution_count": 35,
   "id": "666ea13d",
   "metadata": {},
   "outputs": [
    {
     "ename": "NameError",
     "evalue": "name 'thfcgjhvfguj' is not defined",
     "output_type": "error",
     "traceback": [
      "\u001b[1;31m---------------------------------------------------------------------------\u001b[0m",
      "\u001b[1;31mNameError\u001b[0m                                 Traceback (most recent call last)",
      "Cell \u001b[1;32mIn[35], line 1\u001b[0m\n\u001b[1;32m----> 1\u001b[0m \u001b[43mthfcgjhvfguj\u001b[49m\n",
      "\u001b[1;31mNameError\u001b[0m: name 'thfcgjhvfguj' is not defined"
     ]
    }
   ],
   "source": [
    "thfcgjhvfguj"
   ]
  },
  {
   "cell_type": "code",
   "execution_count": null,
   "id": "42d41f91",
   "metadata": {},
   "outputs": [
    {
     "data": {
      "text/plain": [
       "1620"
      ]
     },
     "execution_count": 63,
     "metadata": {},
     "output_type": "execute_result"
    }
   ],
   "source": [
    "9*15*3*4"
   ]
  },
  {
   "cell_type": "code",
   "execution_count": null,
   "id": "beb40923",
   "metadata": {},
   "outputs": [],
   "source": [
    "if s.check():\n",
    "    m = s.model()\n",
    "    evalu = np.vectorize(lambda x: m.evaluate(x).as_long())\n",
    "    result_x = np.array([[m.evaluate(X[i][j]).as_long() for j in range(N)] for i in range(N)])\n",
    "    \n",
    "    # Connectivity check\n",
    "    if np.max(label(result_x != 0, connectivity=1)) == 1:\n",
    "        display(Markdown('## Total solve time of {:.3f} seconds'.format(time.time()-start)))\n",
    "        sol_print(numbers=result_x, hooks=evalu(Y))\n",
    "        display(Markdown('## Answer is: {:,.0f}'.format(areas(result_x))))\n",
    "else:\n",
    "    display(Markdown('**No solution found.**'))"
   ]
  },
  {
   "cell_type": "code",
   "execution_count": null,
   "id": "dea35865",
   "metadata": {},
   "outputs": [
    {
     "data": {
      "text/markdown": [
       "## Total solve time of 7536.920 seconds"
      ],
      "text/plain": [
       "<IPython.core.display.Markdown object>"
      ]
     },
     "metadata": {},
     "output_type": "display_data"
    },
    {
     "data": {
      "image/png": "[encoded data removed]",
      "text/plain": [
       "<Figure size 800x800 with 1 Axes>"
      ]
     },
     "metadata": {},
     "output_type": "display_data"
    },
    {
     "name": "stderr",
     "output_type": "stream",
     "text": [
      "C:\\Users\\brian\\AppData\\Local\\Temp\\ipykernel_30632\\2877243823.py:12: DeprecationWarning: Please import `label` from the `scipy.ndimage` namespace; the `scipy.ndimage.measurements` namespace is deprecated and will be removed in SciPy 2.0.0.\n",
      "  labels, num = measurements.label(np.logical_not(grid!=0))\n",
      "C:\\Users\\brian\\AppData\\Local\\Temp\\ipykernel_30632\\2877243823.py:13: DeprecationWarning: Please import `sum` from the `scipy.ndimage` namespace; the `scipy.ndimage.measurements` namespace is deprecated and will be removed in SciPy 2.0.0.\n",
      "  areas = measurements.sum(np.logical_not(grid>=1), labels, index=range(1, num+1))\n"
     ]
    },
    {
     "data": {
      "text/markdown": [
       "## Answer is: 1,296"
      ],
      "text/plain": [
       "<IPython.core.display.Markdown object>"
      ]
     },
     "metadata": {},
     "output_type": "display_data"
    }
   ],
   "source": [
    "if True:\n",
    "    m = s.model()\n",
    "    evalu = np.vectorize(lambda x: m.evaluate(x).as_long())\n",
    "    result_x = np.array([[m.evaluate(X[i][j]).as_long() for j in range(N)] for i in range(N)])\n",
    "    \n",
    "    # Connectivity check\n",
    "    if True:\n",
    "        display(Markdown('## Total solve time of {:.3f} seconds'.format(time.time()-start)))\n",
    "        sol_print(numbers=result_x, hooks=evalu(Y))\n",
    "        display(Markdown('## Answer is: {:,.0f}'.format(areas(result_x))))\n",
    "else:\n",
    "    display(Markdown('**No solution found.**'))"
   ]
  },
  {
   "cell_type": "code",
   "execution_count": null,
   "id": "8933d135",
   "metadata": {},
   "outputs": [],
   "source": []
  },
  {
   "cell_type": "code",
   "execution_count": null,
   "id": "fc50c58b",
   "metadata": {},
   "outputs": [],
   "source": [
    "import numpy as np\n",
    "import matplotlib.pyplot as plt\n",
    "import seaborn as sns\n",
    "import matplotlib.patches as patches\n",
    "\n",
    "def sol_print_combined(numbers: np.ndarray, hooks: np.ndarray) -> None:\n",
    "    \"\"\"\n",
    "    Plot a solution grid:\n",
    "      - Shapes are filled with colors (based on shape ID).\n",
    "      - Numbers are shown as text annotations.\n",
    "      - L-shaped hooks are drawn as outlines, not colors.\n",
    "\n",
    "    Args:\n",
    "        numbers: 2D numpy array of integers, cell numbers (0 = empty).\n",
    "        hooks: 2D numpy array of same shape, with 1 for hook cells, 0 otherwise.\n",
    "    \"\"\"\n",
    "    n, m = numbers.shape\n",
    "    annot = numbers.astype(str)\n",
    "    annot[numbers == 0] = \"-\"  # empty cells as \"-\"\n",
    "\n",
    "    plt.figure(figsize=(8,8))\n",
    "\n",
    "    # Draw shapes (from numbers>0)\n",
    "    sns.heatmap(numbers, annot=annot, fmt=\"\", cbar=False,\n",
    "                cmap=\"tab20\", linewidths=0.25,\n",
    "                annot_kws={\"fontsize\":12}, alpha=0.9)\n",
    "\n",
    "    ax = plt.gca()\n",
    "\n",
    "    # Overlay hook outlines\n",
    "    for i in range(n):\n",
    "        for j in range(m):\n",
    "            if hooks[i, j] != 0:\n",
    "                # Draw a thin rectangle around the hook cell\n",
    "                rect = patches.Rectangle((j, i), 1, 1, fill=False,\n",
    "                                         edgecolor=\"black\", linewidth=2)\n",
    "                ax.add_patch(rect)\n",
    "\n",
    "    plt.xticks([])\n",
    "    plt.yticks([])\n",
    "    plt.tight_layout()\n",
    "    plt.show()\n"
   ]
  },
  {
   "cell_type": "code",
   "execution_count": null,
   "id": "16b2ac49",
   "metadata": {},
   "outputs": [
    {
     "name": "stdout",
     "output_type": "stream",
     "text": [
      "Time: 74.87990927696228 seconds\n",
      "Shape 0 placed at (1,2), covers [(1, 3), (2, 2), (2, 3), (2, 4), (3, 4)]\n",
      "Shape 2 placed at (1,1), covers [(1, 1), (2, 1), (3, 1), (4, 1), (4, 2)]\n",
      "Shape 3 placed at (4,0), covers [(4, 0), (5, 0), (6, 0), (6, 1), (7, 1)]\n",
      "Shape 4 placed at (4,2), covers [(4, 4), (5, 2), (5, 3), (5, 4), (6, 4)]\n",
      "Shape 5 placed at (0,6), covers [(0, 6), (0, 8), (1, 6), (1, 7), (1, 8)]\n",
      "Shape 6 placed at (6,6), covers [(6, 8), (7, 8), (8, 6), (8, 7), (8, 8)]\n",
      "Shape 8 placed at (2,6), covers [(2, 7), (3, 6), (3, 7), (3, 8), (4, 7)]\n",
      "Shape 10 placed at (6,4), covers [(6, 6), (7, 4), (7, 5), (7, 6), (8, 4)]\n",
      "Shape 11 placed at (0,1), covers [(0, 1), (0, 2), (0, 3), (0, 4), (0, 5)]\n"
     ]
    },
    {
     "data": {
      "text/markdown": [
       "## Total solve time of 8249.107 seconds"
      ],
      "text/plain": [
       "<IPython.core.display.Markdown object>"
      ]
     },
     "metadata": {},
     "output_type": "display_data"
    },
    {
     "data": {
      "image/png": "[encoded data removed]",
      "text/plain": [
       "<Figure size 800x800 with 1 Axes>"
      ]
     },
     "metadata": {},
     "output_type": "display_data"
    },
    {
     "name": "stderr",
     "output_type": "stream",
     "text": [
      "C:\\Users\\brian\\AppData\\Local\\Temp\\ipykernel_30632\\2877243823.py:12: DeprecationWarning: Please import `label` from the `scipy.ndimage` namespace; the `scipy.ndimage.measurements` namespace is deprecated and will be removed in SciPy 2.0.0.\n",
      "  labels, num = measurements.label(np.logical_not(grid!=0))\n",
      "C:\\Users\\brian\\AppData\\Local\\Temp\\ipykernel_30632\\2877243823.py:13: DeprecationWarning: Please import `sum` from the `scipy.ndimage` namespace; the `scipy.ndimage.measurements` namespace is deprecated and will be removed in SciPy 2.0.0.\n",
      "  areas = measurements.sum(np.logical_not(grid>=1), labels, index=range(1, num+1))\n"
     ]
    },
    {
     "data": {
      "text/markdown": [
       "## Answer is: 1,620"
      ],
      "text/plain": [
       "<IPython.core.display.Markdown object>"
      ]
     },
     "metadata": {},
     "output_type": "display_data"
    }
   ],
   "source": [
    "start2 = time.time()\n",
    "if s.check():\n",
    "    end = time.time()\n",
    "    print(\"Time:\", end - start2, \"seconds\")\n",
    "\n",
    "    m = s.model()\n",
    "    evalu = np.vectorize(lambda x: m.evaluate(x).as_long())\n",
    "    # collect chosen placements\n",
    "    chosen = [pinfo for pinfo in placements if m.evaluate(pinfo[\"var\"], model_completion=True)]\n",
    "\n",
    "    # Build grid with shape IDs (sid+1 so 0 = empty, >0 = shape)\n",
    "    result_x = np.zeros((N, N), dtype=int)\n",
    "    for pinfo in chosen:\n",
    "        sid = pinfo[\"sid\"]\n",
    "        for (ci, cj) in pinfo[\"cells\"]:\n",
    "            result_x[ci, cj] = sid + 1\n",
    "\n",
    "    # --- Print chosen placements / shapes ---\n",
    "    for pinfo in chosen:\n",
    "        sid = pinfo[\"sid\"]\n",
    "        i0, j0 = pinfo[\"i\"], pinfo[\"j\"]\n",
    "        cells = pinfo[\"cells\"]\n",
    "        print(f\"Shape {sid} placed at ({i0},{j0}), covers {cells}\")\n",
    "\n",
    "    # --- Connectivity check (optional) ---\n",
    "    if True:\n",
    "        display(Markdown('## Total solve time of {:.3f} seconds'.format(time.time()-start)))\n",
    "        \n",
    "        # Use combined visualization\n",
    "        sol_print_combined(numbers=result_x, hooks=evalu(Y))\n",
    "\n",
    "        display(Markdown('## Answer is: {:,.0f}'.format(areas(result_x))))\n",
    "else:\n",
    "    display(Markdown('**No solution found.**'))\n"
   ]
  },
  {
   "cell_type": "code",
   "execution_count": null,
   "id": "5c31ccd3",
   "metadata": {},
   "outputs": [
    {
     "ename": "ValueError",
     "evalue": "too many values to unpack (expected 5)",
     "output_type": "error",
     "traceback": [
      "\u001b[1;31m---------------------------------------------------------------------------\u001b[0m",
      "\u001b[1;31mValueError\u001b[0m                                Traceback (most recent call last)",
      "Cell \u001b[1;32mIn[55], line 21\u001b[0m\n\u001b[0;32m     18\u001b[0m grid \u001b[38;5;241m=\u001b[39m np\u001b[38;5;241m.\u001b[39mzeros((N, N), dtype\u001b[38;5;241m=\u001b[39m\u001b[38;5;28mint\u001b[39m)\n\u001b[0;32m     20\u001b[0m \u001b[38;5;66;03m# Fill grid from placement variables\u001b[39;00m\n\u001b[1;32m---> 21\u001b[0m \u001b[38;5;28;01mfor\u001b[39;00m p, sid, shape, pi, pj \u001b[38;5;129;01min\u001b[39;00m placements:\n\u001b[0;32m     22\u001b[0m     \u001b[38;5;28;01mif\u001b[39;00m m\u001b[38;5;241m.\u001b[39mevaluate(p):  \u001b[38;5;66;03m# check if this placement is selected in the solution\u001b[39;00m\n\u001b[0;32m     23\u001b[0m         \u001b[38;5;28;01mfor\u001b[39;00m di, dj \u001b[38;5;129;01min\u001b[39;00m shape:\n",
      "\u001b[1;31mValueError\u001b[0m: too many values to unpack (expected 5)"
     ]
    }
   ],
   "source": [
    "def sol_print2(grid: np.ndarray) -> None:\n",
    "    \"\"\"\n",
    "    Plot a solution grid with shape IDs colored.\n",
    "    grid: 2D array where 0 = empty, >0 = shape ID\n",
    "    \"\"\"\n",
    "    annot = grid.astype(str)\n",
    "    annot[grid == 0] = \"-\"  # show empty cells as '-'\n",
    "\n",
    "    plt.figure(figsize=(8,8))\n",
    "    sns.heatmap(grid, annot=annot, fmt=\"\", cbar=False,\n",
    "                cmap=\"tab20\", linewidths=0.25, annot_kws={\"fontsize\":12})\n",
    "    plt.xticks([])\n",
    "    plt.yticks([])\n",
    "    plt.tight_layout()\n",
    "    plt.show()\n",
    "\n",
    "    # Assume N x N grid\n",
    "grid = np.zeros((N, N), dtype=int)\n",
    "\n",
    "# Fill grid from placement variables\n",
    "for p, sid, shape, pi, pj in placements:\n",
    "    if m.evaluate(p):  # check if this placement is selected in the solution\n",
    "        for di, dj in shape:\n",
    "            grid[pi + di, pj + dj] = sid + 1  # +1 so empty cells are 0\n",
    "\n",
    "# Plot\n",
    "sol_print2(grid)"
   ]
  },
  {
   "cell_type": "code",
   "execution_count": null,
   "id": "e60681cd",
   "metadata": {},
   "outputs": [
    {
     "ename": "ValueError",
     "evalue": "too many values to unpack (expected 5)",
     "output_type": "error",
     "traceback": [
      "\u001b[1;31m---------------------------------------------------------------------------\u001b[0m",
      "\u001b[1;31mValueError\u001b[0m                                Traceback (most recent call last)",
      "Cell \u001b[1;32mIn[27], line 5\u001b[0m\n\u001b[0;32m      2\u001b[0m grid \u001b[38;5;241m=\u001b[39m np\u001b[38;5;241m.\u001b[39mzeros((N, N), dtype\u001b[38;5;241m=\u001b[39m\u001b[38;5;28mint\u001b[39m)\n\u001b[0;32m      4\u001b[0m \u001b[38;5;66;03m# Fill grid from placement variables\u001b[39;00m\n\u001b[1;32m----> 5\u001b[0m \u001b[38;5;28;01mfor\u001b[39;00m p, sid, shape, pi, pj \u001b[38;5;129;01min\u001b[39;00m placements:\n\u001b[0;32m      6\u001b[0m     \u001b[38;5;28;01mif\u001b[39;00m m\u001b[38;5;241m.\u001b[39mevaluate(p):  \u001b[38;5;66;03m# check if this placement is selected in the solution\u001b[39;00m\n\u001b[0;32m      7\u001b[0m         \u001b[38;5;28;01mfor\u001b[39;00m di, dj \u001b[38;5;129;01min\u001b[39;00m shape:\n",
      "\u001b[1;31mValueError\u001b[0m: too many values to unpack (expected 5)"
     ]
    }
   ],
   "source": [
    "# Assume N x N grid\n",
    "grid = np.zeros((N, N), dtype=int)\n",
    "\n",
    "# Fill grid from placement variables\n",
    "for p, sid, shape, pi, pj in placements:\n",
    "    if m.evaluate(p):  # check if this placement is selected in the solution\n",
    "        for di, dj in shape:\n",
    "            grid[pi + di, pj + dj] = sid + 1  # +1 so empty cells are 0\n",
    "\n",
    "# Plot\n",
    "sol_print2(grid)"
   ]
  },
  {
   "cell_type": "code",
   "execution_count": null,
   "id": "3e4a5556",
   "metadata": {},
   "outputs": [
    {
     "data": {
      "text/markdown": [
       "## Total solve time of 324.356 seconds"
      ],
      "text/plain": [
       "<IPython.core.display.Markdown object>"
      ]
     },
     "metadata": {},
     "output_type": "display_data"
    },
    {
     "ename": "NameError",
     "evalue": "name 'evalu' is not defined",
     "output_type": "error",
     "traceback": [
      "\u001b[1;31m---------------------------------------------------------------------------\u001b[0m",
      "\u001b[1;31mNameError\u001b[0m                                 Traceback (most recent call last)",
      "Cell \u001b[1;32mIn[26], line 2\u001b[0m\n\u001b[0;32m      1\u001b[0m display(Markdown(\u001b[38;5;124m'\u001b[39m\u001b[38;5;124m## Total solve time of \u001b[39m\u001b[38;5;132;01m{:.3f}\u001b[39;00m\u001b[38;5;124m seconds\u001b[39m\u001b[38;5;124m'\u001b[39m\u001b[38;5;241m.\u001b[39mformat(time\u001b[38;5;241m.\u001b[39mtime()\u001b[38;5;241m-\u001b[39mstart)))\n\u001b[1;32m----> 2\u001b[0m sol_print(numbers\u001b[38;5;241m=\u001b[39mresult_x, hooks\u001b[38;5;241m=\u001b[39m\u001b[43mevalu\u001b[49m(Y))\n\u001b[0;32m      3\u001b[0m display(Markdown(\u001b[38;5;124m'\u001b[39m\u001b[38;5;124m## Answer is: \u001b[39m\u001b[38;5;132;01m{:,.0f}\u001b[39;00m\u001b[38;5;124m'\u001b[39m\u001b[38;5;241m.\u001b[39mformat((areas(result_x)))))\n",
      "\u001b[1;31mNameError\u001b[0m: name 'evalu' is not defined"
     ]
    }
   ],
   "source": [
    "display(Markdown('## Total solve time of {:.3f} seconds'.format(time.time()-start)))\n",
    "sol_print(numbers=result_x, hooks=evalu(Y))\n",
    "display(Markdown('## Answer is: {:,.0f}'.format((areas(result_x)))))"
   ]
  },
  {
   "cell_type": "code",
   "execution_count": null,
   "id": "f0a61930",
   "metadata": {},
   "outputs": [],
   "source": [
    "import numpy as np\n",
    "import matplotlib.pyplot as plt\n",
    "import seaborn as sns\n",
    "\n",
    "def sol_print2(grid: np.ndarray) -> None:\n",
    "    \"\"\"\n",
    "    Plot a solution grid with shape IDs colored distinctly.\n",
    "    grid: 2D array where 0 = empty, >0 = shape ID\n",
    "    \"\"\"\n",
    "    annot = grid.astype(str)\n",
    "    annot[grid == 0] = \"\"  # show empty cells as blank\n",
    "\n",
    "    plt.figure(figsize=(8, 8))\n",
    "\n",
    "    # Make a color palette with enough distinct colors (skip index 0 for empty)\n",
    "    max_id = int(grid.max())\n",
    "    palette = sns.color_palette(\"tab20\", max_id)  # repeatable colors\n",
    "    cmap = sns.color_palette([\"white\"] + palette)  # white for empty (0)\n",
    "\n",
    "    sns.heatmap(\n",
    "        grid,\n",
    "        annot=annot,\n",
    "        fmt=\"\",\n",
    "        cbar=False,\n",
    "        cmap=cmap,\n",
    "        linewidths=0.5,\n",
    "        linecolor=\"black\",\n",
    "        square=True,\n",
    "        xticklabels=False,\n",
    "        yticklabels=False,\n",
    "        annot_kws={\"fontsize\": 12, \"weight\": \"bold\", \"color\": \"black\"},\n",
    "    )\n",
    "\n",
    "    plt.tight_layout()\n",
    "    plt.show()\n"
   ]
  }
 ],
 "metadata": {
  "kernelspec": {
   "display_name": "Python 3",
   "language": "python",
   "name": "python3"
  },
  "language_info": {
   "codemirror_mode": {
    "name": "ipython",
    "version": 3
   },
   "file_extension": ".py",
   "mimetype": "text/x-python",
   "name": "python",
   "nbconvert_exporter": "python",
   "pygments_lexer": "ipython3",
   "version": "3.11.9"
  }
 },
 "nbformat": 4,
 "nbformat_minor": 5
}
